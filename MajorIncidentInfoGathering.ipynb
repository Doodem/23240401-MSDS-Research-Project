{
 "cells": [
  {
   "cell_type": "markdown",
   "id": "f392d62a-8ce0-4f91-9be5-51baf84d5360",
   "metadata": {
    "tags": []
   },
   "source": [
    "# Optimising Information Gathering Following A Major Criminal Incident\n",
    "\n",
    "Mitchell Doody-Burras 23240401"
   ]
  },
  {
   "cell_type": "code",
   "execution_count": null,
   "id": "24885e39-d1ba-43e5-b3ff-52b331be611e",
   "metadata": {
    "tags": []
   },
   "outputs": [],
   "source": [
    "import networkx as nx\n",
    "import numpy as np\n",
    "import math\n",
    "from scipy.spatial import Voronoi\n",
    "import matplotlib.pyplot as plt\n",
    "import matplotlib.animation as animation\n",
    "%matplotlib widget"
   ]
  },
  {
   "cell_type": "markdown",
   "id": "37cbbe8b-580f-4c87-b7a1-500ff26a09d5",
   "metadata": {},
   "source": [
    "## The Agents\n",
    "\n",
    "The `Patrol` builder."
   ]
  },
  {
   "cell_type": "code",
   "execution_count": null,
   "id": "54b906fc-f355-4c95-bb32-b39936b6f2d3",
   "metadata": {
    "tags": []
   },
   "outputs": [],
   "source": [
    "class Patrol:\n",
    "    \n",
    "    def __init__(self, world, pos, incident, cost):\n",
    "        \"\"\" Initialise patrol attributes. \"\"\"\n",
    "        self.world = world\n",
    "        self.world_pos = pos\n",
    "        self.incident = incident\n",
    "        self.pos = np.array((0, 0))\n",
    "        self.coord = np.array(((0, 0), (0, 0)))\n",
    "        self.coord_list = np.empty((0, 2))\n",
    "        self.resolved = False\n",
    "        self.bank = 0\n",
    "        self.current_node = np.random.choice(list(world.nodes()))\n",
    "        self.cost = cost\n",
    "\n",
    "    def move(self): \n",
    "        if self.at_next_node():\n",
    "            if self.at_incident():\n",
    "                self.resolved = True\n",
    "                # need this currently because what if initalised on incident node\n",
    "                self.coord_list = np.vstack((self.coord_list, pos[self.incident]))\n",
    "            else:\n",
    "                # get first node of shortest alternate path\n",
    "                next_node = self.get_next_node()\n",
    "                # get info from travelled path if not already collected\n",
    "                self.update_info(next_node) # does this and the bottom one work the first step, getting info updating pheremones before reaching the end of edge? what about incident node?\n",
    "                # update pheremones\n",
    "                self.update_pheremones(next_node) \n",
    "                # get coordinate steps to next node\n",
    "                self.coord = self.get_steps(next_node)\n",
    "                # update current node\n",
    "                self.current_node = next_node\n",
    "                # update current position \n",
    "                self.pos = self.coord[0]\n",
    "                # add current position to full coords list\n",
    "                self.coord_list = np.vstack((self.coord_list, self.pos))\n",
    "        else:\n",
    "            # update to next position\n",
    "            self.pos = self.coord[np.where(self.pos == self.coord)[0][0] + 1]\n",
    "            # add next position to full coords list\n",
    "            self.coord_list = np.vstack((self.coord_list, self.pos))\n",
    "    \n",
    "    def at_incident(self):\n",
    "        # whether at incident node\n",
    "        return self.current_node == self.incident\n",
    "    \n",
    "    def at_next_node(self):\n",
    "        # whether at next node\n",
    "        return np.array_equal(self.pos, self.coord[-1])\n",
    "\n",
    "    def get_next_node(self):\n",
    "        # find shortest alternate path\n",
    "        path = nx.astar_path(self.world, self.current_node, self.incident, heuristic=self.dist, weight=self.cost_func)\n",
    "        return path[1]\n",
    "    \n",
    "    def cost_func(self, u, v, e):\n",
    "        # get distance of edge\n",
    "        cost = e['dist']\n",
    "        # if pheremone exists\n",
    "        if e['cost'] >= 1:\n",
    "            # penalise edge\n",
    "            cost *= self.cost\n",
    "        return cost\n",
    "    \n",
    "    def dist(self, a, b):\n",
    "        return math.dist(self.world_pos[a], self.world_pos[b])\n",
    "    \n",
    "    def get_steps(self, next_node):\n",
    "        # get evenly spaced intervals between node\n",
    "        steps = np.linspace(0, 1, self.world[self.current_node][next_node]['dist'])\n",
    "        return self.get_distance(steps, next_node)\n",
    "    \n",
    "    def get_distance(self, steps, next_node):\n",
    "        # get positions of intervals\n",
    "        return steps[..., None] * pos[next_node] + (1 - steps[..., None]) * pos[self.current_node]\n",
    "    \n",
    "    def update_pheremones(self, next_node):\n",
    "        # update pheromones on the edges visited\n",
    "        self.world.edges[self.current_node, next_node]['cost'] += 1\n",
    "        \n",
    "    def update_info(self, next_node):\n",
    "        # edge colour\n",
    "        edge_color = self.world.edges[self.current_node, next_node]['color']\n",
    "        if edge_color != 'k':\n",
    "            if edge_color[-1] != 1.0:\n",
    "                updated_color = edge_color[:-1] + (edge_color[-1] + 0.25,)\n",
    "                self.world.edges[self.current_node, next_node]['color'] = updated_color\n",
    "        else:\n",
    "            self.world.edges[self.current_node, next_node]['color'] = (0.6, 0.0, 1.0, 0.25)\n",
    "        \n",
    "        # point info\n",
    "        if self.world.edges[self.current_node, next_node]['info'] == 1:\n",
    "            self.world.edges[self.current_node, next_node]['info'] = 0\n",
    "            self.bank += 1"
   ]
  },
  {
   "cell_type": "markdown",
   "id": "29f7a8fb-00c8-4dc4-be75-67d7bfd2435f",
   "metadata": {},
   "source": [
    "## The Network\n",
    "\n",
    "The `World` manager."
   ]
  },
  {
   "cell_type": "code",
   "execution_count": null,
   "id": "2f74d6a6-3cd6-430a-95e0-98d884748367",
   "metadata": {
    "tags": []
   },
   "outputs": [],
   "source": [
    "np.random.seed(17)\n",
    "def voronoi_to_networkx(points):\n",
    "    vor = Voronoi(points)\n",
    "    G = nx.Graph()\n",
    "    for simplex in vor.ridge_vertices:\n",
    "        if -1 not in simplex:\n",
    "            i, j = simplex\n",
    "            p = vor.vertices[i]\n",
    "            q = vor.vertices[j]\n",
    "            if all(0 <= x <= 1 for x in p) and all(0 <= x <= 1 for x in q):\n",
    "                distance = np.linalg.norm(p - q)\n",
    "                G.add_edge(tuple(p), tuple(q), weight=distance)\n",
    "    pos = {i: node for i, node in enumerate(G.nodes)}\n",
    "    G = nx.convert_node_labels_to_integers(G, first_label=0, ordering='default')\n",
    "    return G, pos\n",
    "\n",
    "# add randomness\n",
    "points = np.random.rand(200, 2)\n",
    "\n",
    "# add non-uniformity\n",
    "cluster_means = [[0.4, 0.4], [0.8, 0.8]] # where the clusters appear\n",
    "cluster_stds = [0.05, 0.05] # how tight should the clustering be\n",
    "for mean, std in zip(cluster_means, cluster_stds):\n",
    "    cluster = np.random.normal(loc=mean, scale=std, size=(100, 2)) # generater random points for those clusters\n",
    "    points = np.concatenate([points, cluster]) # add points to full points ilst\n",
    "\n",
    "G, pos = voronoi_to_networkx(points)\n",
    "    \n",
    "def distance(u, v, pos):\n",
    "    x1, y1 = pos[u]\n",
    "    x2, y2 = pos[v]\n",
    "    return math.ceil(math.sqrt((x2 - x1)**2 + (y2 - y1)**2) * 100)\n",
    "\n",
    "for u, v in G.edges():\n",
    "    G.edges[u,v]['dist'] = distance(u, v, pos)\n",
    "\n",
    "pheromones = {(u, v): {'cost': 0} for u, v in G.edges()}\n",
    "information = {(u, v): {'info': 1} for u, v in G.edges()}\n",
    "nx.set_edge_attributes(G, pheromones)\n",
    "nx.set_edge_attributes(G, information)"
   ]
  },
  {
   "cell_type": "code",
   "execution_count": null,
   "id": "12e55093-4ccb-4dc3-a864-0ae31e06c82f",
   "metadata": {
    "tags": []
   },
   "outputs": [],
   "source": [
    "class World:\n",
    "    \n",
    "    def __init__(self, world, decay):\n",
    "        \"\"\" Initalise world attributes. \"\"\"\n",
    "        self.world = world\n",
    "        nx.set_edge_attributes(self.world, 'k', 'color')\n",
    "        self.edge_mappings = []\n",
    "        self.decay = decay\n",
    "        self.incident = 224#np.random.choice(list(world.nodes()))\n",
    "        \n",
    "    def update_map(self):\n",
    "        self.edge_mappings.append([self.world[u][v]['color'] for u, v in self.world.edges()])"
   ]
  },
  {
   "cell_type": "markdown",
   "id": "1f9c5f6d-b90f-481b-b3f6-46edd78f08d3",
   "metadata": {},
   "source": [
    "## The Simulator\n",
    "\n",
    "The `Simulator` runs the simulations."
   ]
  },
  {
   "cell_type": "code",
   "execution_count": null,
   "id": "45c8ad05-90f0-415b-945f-ab152dc19c4d",
   "metadata": {
    "tags": []
   },
   "outputs": [],
   "source": [
    "class Simulation:\n",
    "    \n",
    "    def __init__(self, world, pos, decay, patrols, cost):\n",
    "        \"\"\" Initalise simulation parameters. \"\"\"\n",
    "        self.world = World(world, decay)\n",
    "        self.patrols = [Patrol(world, pos, self.world.incident, cost) for i in range(patrols)]\n",
    "        self.instruments = []\n",
    "\n",
    "    def run(self):\n",
    "        # initialize instruments\n",
    "        self.update_instruments()\n",
    "        # run until incident resolved\n",
    "        while not all(patrol.resolved for patrol in self.patrols):\n",
    "            self.step()\n",
    "        return self.world.incident, self.get_coords(), self.world.edge_mappings\n",
    "\n",
    "    def step(self):\n",
    "        for patrol in self.patrols:\n",
    "            patrol.move()\n",
    "            self.update_instruments()\n",
    "        self.world.update_map()\n",
    "    \n",
    "    def add_instrument(self, instrument):\n",
    "        self.instruments.append(instrument)\n",
    "    \n",
    "    def update_instruments(self):\n",
    "        for instrument in self.instruments:\n",
    "            instrument.update(self)\n",
    "        \n",
    "    def plot(self, index, *args, **kwargs):\n",
    "        self.instruments[index].plot(*args, **kwargs)\n",
    "        \n",
    "    def gather(self):\n",
    "        return sum([patrol.bank for patrol in self.patrols])\n",
    "\n",
    "    def get_coords(self):\n",
    "        return [patrol.coord_list for patrol in self.patrols]"
   ]
  },
  {
   "cell_type": "code",
   "execution_count": null,
   "id": "500743fd-06fe-4016-926a-5e26f59fed6a",
   "metadata": {
    "tags": []
   },
   "outputs": [],
   "source": [
    "np.random.seed(17)\n",
    "model = Simulation(world = G,\n",
    "                   pos = pos,\n",
    "                   decay = 0.5,\n",
    "                   patrols = 20,\n",
    "                   cost = 6)"
   ]
  },
  {
   "cell_type": "code",
   "execution_count": null,
   "id": "a1daa974-a354-4793-829e-8ad720ee3869",
   "metadata": {},
   "outputs": [],
   "source": [
    "incident_node, coords, edge_map = model.run()"
   ]
  },
  {
   "cell_type": "code",
   "execution_count": null,
   "id": "64567e4e-29a5-4aed-9c45-60314a67eece",
   "metadata": {
    "tags": []
   },
   "outputs": [],
   "source": [
    "def split(coords, idx):\n",
    "    # split into x and y coordinates\n",
    "    return [np.array(i)[:,idx] for i in coords]\n",
    "\n",
    "x_coords = split(coords, 0)\n",
    "y_coords = split(coords, 1)\n",
    "colour_map = np.repeat(\"green\", len(G.nodes()))\n",
    "node_map = np.repeat(0, len(G.nodes()))\n",
    "colour_map[incident_node] = \"red\"\n",
    "node_map[incident_node] = 50"
   ]
  },
  {
   "cell_type": "code",
   "execution_count": null,
   "id": "da07c108-08ce-40a9-b76c-513fe9ca7553",
   "metadata": {
    "tags": []
   },
   "outputs": [],
   "source": [
    "max_length = max(len(lst) for lst in coords)\n",
    "max_length"
   ]
  },
  {
   "cell_type": "code",
   "execution_count": null,
   "id": "630dfd21-cde2-4085-91d6-9adc7cc3543c",
   "metadata": {
    "tags": []
   },
   "outputs": [],
   "source": [
    "unique_edges = len([i for i in edge_map[-1] if i != 'k'])\n",
    "print(unique_edges, len(edge_map[-1]))"
   ]
  },
  {
   "cell_type": "code",
   "execution_count": null,
   "id": "ef7e7910-88d3-432d-81e3-cdf9a5257c46",
   "metadata": {
    "tags": []
   },
   "outputs": [],
   "source": [
    "fig = plt.figure()\n",
    "\n",
    "def animate(i):\n",
    "    plt.cla()\n",
    "    nx.draw(G, pos, node_size=node_map, node_color=colour_map, edge_color=edge_map[i])\n",
    "    x = 'rs' if i % 4 == 0 else 'bs'\n",
    "    for j in range(len(x_coords)):\n",
    "        plt.plot(x_coords[j][i], y_coords[j][i], x, markersize=3) # just change x back to 'bs'\n",
    "\n",
    "ani = animation.FuncAnimation(plt.gcf(), animate, frames=len(x_coords[0]), interval=50, repeat=False)\n",
    "plt.show()"
   ]
  },
  {
   "cell_type": "markdown",
   "id": "3b4a4fbb-e074-4da7-8c22-7b922af9fc46",
   "metadata": {},
   "source": [
    "## test"
   ]
  },
  {
   "cell_type": "code",
   "execution_count": null,
   "id": "382eb2dc-ebde-4fce-8a2c-cea203dccbf8",
   "metadata": {
    "tags": []
   },
   "outputs": [],
   "source": [
    "#def draw_circle(radius, colors, incident_node):\n",
    "#    x, y = pos[incident_node]\n",
    "#    circles = [(0.4, colors[2]), (0.2, colors[1]), (0.1, colors[0])]\n",
    "#    for r, color in circles:\n",
    "#        circle = plt.Circle((x, y), r, fill=True, color=color)\n",
    "#        circle.set_alpha(0.3)\n",
    "#        ax.add_patch(circle)\n",
    "\n",
    "#def animate(i):\n",
    "#    plt.cla()\n",
    "#    nx.draw(G, pos, node_size=node_map, node_color=colour_map, edge_color=edge_map[i])\n",
    "#    for j in range(len(x_coords)):\n",
    "#        plt.plot(x_coords[j][i], y_coords[j][i], 'bs', markersize=3)\n",
    "#    # Draw the circle on top of the graph\n",
    "#    draw_circle(radius, colors, incident_node)\n",
    "\n",
    "#fig = plt.figure()\n",
    "#ax = plt.gca()  # Get the current axes\n",
    "\n",
    "# Define your variables (colors, radius, incident_node)\n",
    "#colors = ['red', 'yellow', 'green']\n",
    "#radius = 0.1\n",
    "\n",
    "#ani = animation.FuncAnimation(fig, animate, frames=len(x_coords[0]), interval=50, repeat=False)\n",
    "\n",
    "#plt.show()"
   ]
  },
  {
   "cell_type": "code",
   "execution_count": null,
   "id": "daab8a33-da89-4137-9a92-e5c91c37138f",
   "metadata": {
    "tags": []
   },
   "outputs": [],
   "source": [
    "#ani.save(r\"C:\\Users\\Mitch\\OneDrive\\Documents\\MASTER OF DATA SCIENCE\\SEM 1 2023\\(CITS5014 and CITS5015) Data Science Research Project/animation_test.gif\")"
   ]
  },
  {
   "cell_type": "markdown",
   "id": "7c0d734b-7100-4e30-b6d4-a9a8dfa04a0a",
   "metadata": {},
   "source": [
    "## Instruments\n",
    "\n",
    "These `Instruments` compute metrics at each timestep."
   ]
  },
  {
   "cell_type": "code",
   "execution_count": null,
   "id": "0108cf46-35ac-4676-a513-c1fed24b099a",
   "metadata": {
    "tags": []
   },
   "outputs": [],
   "source": [
    "class Instrument:\n",
    "    \n",
    "    def __init__(self):\n",
    "        self.metrics = []\n",
    "        \n",
    "    def update(self, model):\n",
    "        pass\n",
    "        \n",
    "    def plot(self, **options):\n",
    "        plt.plot(self.metrics, **options) # do I need this?"
   ]
  },
  {
   "cell_type": "code",
   "execution_count": null,
   "id": "ca87fe3e-da2b-44ec-96dc-aed6d18784b4",
   "metadata": {
    "tags": []
   },
   "outputs": [],
   "source": [
    "class Gather(Instrument):\n",
    "    \"\"\"Computes information gathered at each timestep.\"\"\"\n",
    "    label = 'Information Gathered'\n",
    "    \n",
    "    def update(self, model):\n",
    "        info_count = model.gather()\n",
    "        self.metrics.append(info_count)"
   ]
  },
  {
   "cell_type": "code",
   "execution_count": null,
   "id": "3b68f84e-46c7-4c1f-9634-7ad28af5ce37",
   "metadata": {
    "tags": []
   },
   "outputs": [],
   "source": [
    "model = Simulation(world = G,\n",
    "                   pos = pos,\n",
    "                   decay = 0.5,\n",
    "                   patrols = 15,\n",
    "                   cost = 1)\n",
    "instrument = Gather()\n",
    "model.add_instrument(instrument)\n",
    "model.run()\n",
    "model.plot(index=0)\n",
    "\n",
    "def label(xlabel, ylabel, graph):\n",
    "    plt.xlabel(xlabel)\n",
    "    plt.ylabel(ylabel.format(len(graph.edges())))\n",
    "    plt.show()\n",
    "\n",
    "label('Time', 'Info gathered/unique edges traversed: {} total edges', G)"
   ]
  },
  {
   "cell_type": "code",
   "execution_count": null,
   "id": "f0c2f9a2-a804-4f3d-9ad3-2149259af70a",
   "metadata": {},
   "outputs": [],
   "source": []
  }
 ],
 "metadata": {
  "kernelspec": {
   "display_name": "Python 3 (ipykernel)",
   "language": "python",
   "name": "python3"
  },
  "language_info": {
   "codemirror_mode": {
    "name": "ipython",
    "version": 3
   },
   "file_extension": ".py",
   "mimetype": "text/x-python",
   "name": "python",
   "nbconvert_exporter": "python",
   "pygments_lexer": "ipython3",
   "version": "3.9.12"
  }
 },
 "nbformat": 4,
 "nbformat_minor": 5
}
